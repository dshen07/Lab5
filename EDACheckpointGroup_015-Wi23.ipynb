{
 "cells": [
  {
   "cell_type": "markdown",
   "metadata": {},
   "source": [
    "# COGS 108 - EDA Checkpoint"
   ]
  },
  {
   "cell_type": "markdown",
   "metadata": {},
   "source": [
    "# Names\n",
    "\n",
    "- Clarissa Gutierrez\n",
    "- Daixi Shen\n",
    "- You Wu\n",
    "- Yining Qi"
   ]
  },
  {
   "cell_type": "markdown",
   "metadata": {},
   "source": [
    "<a id='research_question'></a>\n",
    "# Research Question"
   ]
  },
  {
   "cell_type": "markdown",
   "metadata": {},
   "source": [
    "Is there any correlation between median household income and average house price per zip code in San Diego County?"
   ]
  },
  {
   "cell_type": "markdown",
   "metadata": {},
   "source": [
    "# Dataset(s)"
   ]
  },
  {
   "cell_type": "markdown",
   "metadata": {},
   "source": [
    "\n",
    "We did web scraping to collect home price data from various zip codes in San Diego. The web scraping we did was on the Zillow website.\n",
    "\n",
    "### What is Zillow? \n",
    "\n",
    "Zillow has data on roughly 110 million homes across the United States. This site offers several features, including value estimates of homes, value changes of each home in a given time frame, aerial views of homes, and prices of comparable homes in the area. It also provides basic information on a given home, such as square footage and the number of bedrooms and bathrooms. \n",
    "\n",
    "### Datasets/CSV files: \n",
    "\n",
    "We use a Google extension tool to do the web scraping. We then save this data to CSV files for future analysis.\n",
    "\n",
    "For this project we concentrate on the price of houses sold based on 9 different zip codes in San Diego. The selection of these zip codes was based on the divergence of prices between zones. We found out that neighboring areas have very similar prices, and areas to the north and east have higher prices, we carefully selected these zip codes. \n",
    "\n",
    "We created a github repository with all the data collected from the web scraping. We got a total of 18 datasets. As mentioned before we select 9 principal zip codes from which we subcategorize into 2 and 3 bedroom homes. In our set up below you would see data frames like *df_92130_2beds* and *df_92130_2beds*  referring to the dataset of the “92130” zip code categorized into  two and three bedroom homes.\n",
    "\n",
    "Link to Repository with all the Datasets/CSV files: \n",
    "https://github.com/clarissagtz/priceHomeData \n",
    "\n",
    "- **Dataset Name:** 92130 2 Bebroom & 3 Bedroom Single-family-Homes San Diego  \n",
    "- **Link to the dataset:**\n",
    "    - 2BEDS: https://raw.githubusercontent.com/clarissagtz/priceHomeData/main/92130%202beds.csv\n",
    "    - 3BEDS: https://raw.githubusercontent.com/clarissagtz/priceHomeData/main/92130%203beds.csv \n",
    "    \n",
    "    \n",
    "- **Dataset Name:** 92126 2 Bebroom & 3 Bedroom Single-family-Homes San Diego  \n",
    "- **Link to the dataset:**\n",
    "    - 2BEDS: https://raw.githubusercontent.com/clarissagtz/priceHomeData/main/92126%202beds.csv\n",
    "    - 3BEDS: https://raw.githubusercontent.com/clarissagtz/priceHomeData/main/92126%203beds.csv \n",
    "\n",
    "\n",
    "- **Dataset Name:** 92123 2 Bebroom & 3 Bedroom Single-family-Homes San Diego  \n",
    "- **Link to the dataset:**\n",
    "    - 2BEDS: https://raw.githubusercontent.com/clarissagtz/priceHomeData/main/92123%202%20beds.csv\n",
    "    - 3BEDS: https://raw.githubusercontent.com/clarissagtz/priceHomeData/main/92123%203beds.csv\n",
    "\n",
    "\n",
    "- **Dataset Name:** 92122 2 Bebroom & 3 Bedroom Single-family-Homes San Diego  \n",
    "- **Link to the dataset:**\n",
    "    - 2BEDS: https://raw.githubusercontent.com/clarissagtz/priceHomeData/main/92122%202%20beds.csv\n",
    "    - 3BEDS: https://raw.githubusercontent.com/clarissagtz/priceHomeData/main/92122%203beds.csv\n",
    "\n",
    "\n",
    "- **Dataset Name:** 92113 2 Bebroom & 3 Bedroom Single-family-Homes San Diego  \n",
    "- **Link to the dataset:**\n",
    "    - 2BEDS: https://raw.githubusercontent.com/clarissagtz/priceHomeData/main/92113%202beds.csv\n",
    "    - 3BEDS: https://raw.githubusercontent.com/clarissagtz/priceHomeData/main/92113%203beds.csv\n",
    "\n",
    "\n",
    "- **Dataset Name:** 92037 2 Bebroom & 3 Bedroom Single-family-Homes San Diego  \n",
    "- **Link to the dataset:**\n",
    "    - 2BEDS: https://raw.githubusercontent.com/clarissagtz/priceHomeData/main/92037%202beds.csv\n",
    "    - 3BEDS: https://raw.githubusercontent.com/clarissagtz/priceHomeData/main/92037%203beds.csv\n",
    "\n",
    "\n",
    "- **Dataset Name:** 92020 2 Bebroom & 3 Bedroom Single-family-Homes San Diego  \n",
    "- **Link to the dataset:**\n",
    "    - 2BEDS: https://raw.githubusercontent.com/clarissagtz/priceHomeData/main/92020%202beds.csv\n",
    "    - 3BEDS: https://raw.githubusercontent.com/clarissagtz/priceHomeData/main/92020%203beds.csv\n",
    "    \n",
    "\n",
    "\n",
    "- **Dataset Name:** 92014 2 Bebroom & 3 Bedroom Single-family-Homes San Diego  \n",
    "- **Link to the dataset:**\n",
    "    - 2BEDS: https://raw.githubusercontent.com/clarissagtz/priceHomeData/main/92014%202%20beds.csv\n",
    "    - 3BEDS: https://raw.githubusercontent.com/clarissagtz/priceHomeData/main/92014%203%20beds.csv\n",
    "\n",
    "\n",
    "- **Dataset Name:** 91950 2 Bebroom & 3 Bedroom Single-family-Homes San Diego  \n",
    "- **Link to the dataset:**\n",
    "    - 2BEDS: https://raw.githubusercontent.com/clarissagtz/priceHomeData/main/91950%202%20beds.csv\n",
    "    - 3BEDS: https://raw.githubusercontent.com/clarissagtz/priceHomeData/main/91950%203%20beds.csv\n",
    "\n",
    "\n",
    "- **Dataset Name:** 92011 2 Bebroom & 3 Bedroom Single-family-Homes San Diego  \n",
    "- **Link to the dataset:**\n",
    "    - 2BEDS: https://raw.githubusercontent.com/clarissagtz/priceHomeData/main/92011%202beds.csv\n",
    "    - 3BEDS: https://raw.githubusercontent.com/clarissagtz/priceHomeData/main/92011%203beds.csv\n",
    "\n",
    "\n",
    "We work with a total of 20 datasets, each of this data sets has more than 200 entries. These datasets contain the address of the residency, price, number of beds, bathrooms, total price and square footage. \n",
    "    \n",
    "For the median income per zipcode we used https://www.incomebyzipcode.com/. We took the data from the nine zip codes we selected and put them in a CSV file. These income statistics came from the comparable income statistics available from the US Census Bureau and from the American Community Survey 2021. \n",
    "\n"
   ]
  },
  {
   "cell_type": "markdown",
   "metadata": {},
   "source": [
    "# Setup"
   ]
  },
  {
   "cell_type": "markdown",
   "metadata": {},
   "source": [
    "Import packages"
   ]
  },
  {
   "cell_type": "code",
   "execution_count": 1,
   "metadata": {},
   "outputs": [],
   "source": [
    "import numpy as np\n",
    "import pandas as pd\n",
    "import matplotlib.pyplot as plt\n",
    "import seaborn as sns"
   ]
  },
  {
   "cell_type": "markdown",
   "metadata": {},
   "source": [
    "Imports for future use (data visualization)"
   ]
  },
  {
   "cell_type": "code",
   "execution_count": 2,
   "metadata": {},
   "outputs": [],
   "source": [
    "# Configure libraries\n",
    "# The seaborn library makes plots look nicer\n",
    "sns.set(context = 'talk', style='white')\n",
    "\n",
    "# Don't display too many rows/cols of DataFrames\n",
    "pd.options.display.max_rows = 7\n",
    "pd.options.display.max_columns = 8\n",
    "\n",
    "# Round decimals when displaying DataFrames\n",
    "pd.set_option('display.precision', 2)\n",
    "\n",
    "# Make plots just slightly bigger for displaying well in notebook\n",
    "# set plotting size parameter\n",
    "plt.rcParams['figure.figsize'] = (10, 5)"
   ]
  },
  {
   "cell_type": "markdown",
   "metadata": {},
   "source": [
    "We declare varibles to store each of the datasets from their correpsonding CSV files"
   ]
  },
  {
   "cell_type": "code",
   "execution_count": 3,
   "metadata": {},
   "outputs": [],
   "source": [
    "df_92130_2beds = pd.read_csv(\"https://raw.githubusercontent.com/clarissagtz/priceHomeData/main/92130%202beds.csv\")\n",
    "df_92130_3beds = pd.read_csv(\"https://raw.githubusercontent.com/clarissagtz/priceHomeData/main/92130%203beds.csv\")\n",
    "df_92126_2beds = pd.read_csv(\"https://raw.githubusercontent.com/clarissagtz/priceHomeData/main/92126%202beds.csv\")\n",
    "df_92126_3beds = pd.read_csv(\"https://raw.githubusercontent.com/clarissagtz/priceHomeData/main/92126%203beds.csv\")\n",
    "df_92123_2beds = pd.read_csv(\"https://raw.githubusercontent.com/clarissagtz/priceHomeData/main/92123%202%20beds.csv\")\n",
    "df_92123_3beds = pd.read_csv(\"https://raw.githubusercontent.com/clarissagtz/priceHomeData/main/92123%203beds.csv\")\n",
    "df_92122_2beds = pd.read_csv(\"https://raw.githubusercontent.com/clarissagtz/priceHomeData/main/92122%202%20beds.csv\")\n",
    "df_92122_3beds = pd.read_csv(\"https://raw.githubusercontent.com/clarissagtz/priceHomeData/main/92122%203beds.csv\")\n",
    "df_92113_2beds = pd.read_csv(\"https://raw.githubusercontent.com/clarissagtz/priceHomeData/main/92113%202beds.csv\")\n",
    "df_92113_3beds = pd.read_csv(\"https://raw.githubusercontent.com/clarissagtz/priceHomeData/main/92113%203beds.csv\")\n",
    "df_92037_2beds = pd.read_csv(\"https://raw.githubusercontent.com/clarissagtz/priceHomeData/main/92037%202beds.csv\")\n",
    "df_92037_3beds = pd.read_csv(\"https://raw.githubusercontent.com/clarissagtz/priceHomeData/main/92037%203beds.csv\")\n",
    "df_92020_2beds = pd.read_csv(\"https://raw.githubusercontent.com/clarissagtz/priceHomeData/main/92020%202beds.csv\")\n",
    "df_92020_3beds = pd.read_csv(\"https://raw.githubusercontent.com/clarissagtz/priceHomeData/main/92020%203beds.csv\")\n",
    "df_92014_2beds = pd.read_csv(\"https://raw.githubusercontent.com/clarissagtz/priceHomeData/main/92014%202%20beds.csv\")\n",
    "df_92014_3beds = pd.read_csv(\"https://raw.githubusercontent.com/clarissagtz/priceHomeData/main/92014%203%20beds.csv\")\n",
    "df_91950_2beds = pd.read_csv(\"https://raw.githubusercontent.com/clarissagtz/priceHomeData/main/91950%202%20beds.csv\")\n",
    "df_91950_3beds = pd.read_csv(\"https://raw.githubusercontent.com/clarissagtz/priceHomeData/main/91950%203%20beds.csv\")\n",
    "df_92011_2beds = pd.read_csv(\"https://raw.githubusercontent.com/clarissagtz/priceHomeData/main/92011%202beds.csv\")\n",
    "df_92011_3beds = pd.read_csv(\"https://raw.githubusercontent.com/clarissagtz/priceHomeData/main/92011%203beds.csv\")\n",
    "df_income = pd.read_csv(\"https://raw.githubusercontent.com/clarissagtz/priceHomeData/main/income.csv\")"
   ]
  },
  {
   "cell_type": "markdown",
   "metadata": {},
   "source": [
    "df_income dataset containing the median income fot the zip codes"
   ]
  },
  {
   "cell_type": "code",
   "execution_count": 4,
   "metadata": {
    "scrolled": false
   },
   "outputs": [
    {
     "data": {
      "text/html": [
       "<div>\n",
       "<style scoped>\n",
       "    .dataframe tbody tr th:only-of-type {\n",
       "        vertical-align: middle;\n",
       "    }\n",
       "\n",
       "    .dataframe tbody tr th {\n",
       "        vertical-align: top;\n",
       "    }\n",
       "\n",
       "    .dataframe thead th {\n",
       "        text-align: right;\n",
       "    }\n",
       "</style>\n",
       "<table border=\"1\" class=\"dataframe\">\n",
       "  <thead>\n",
       "    <tr style=\"text-align: right;\">\n",
       "      <th></th>\n",
       "      <th>Zipcode</th>\n",
       "      <th>Income</th>\n",
       "    </tr>\n",
       "  </thead>\n",
       "  <tbody>\n",
       "    <tr>\n",
       "      <th>0</th>\n",
       "      <td>92130</td>\n",
       "      <td>166789</td>\n",
       "    </tr>\n",
       "    <tr>\n",
       "      <th>1</th>\n",
       "      <td>92126</td>\n",
       "      <td>105284</td>\n",
       "    </tr>\n",
       "    <tr>\n",
       "      <th>2</th>\n",
       "      <td>92123</td>\n",
       "      <td>97691</td>\n",
       "    </tr>\n",
       "    <tr>\n",
       "      <th>...</th>\n",
       "      <td>...</td>\n",
       "      <td>...</td>\n",
       "    </tr>\n",
       "    <tr>\n",
       "      <th>7</th>\n",
       "      <td>92014</td>\n",
       "      <td>178080</td>\n",
       "    </tr>\n",
       "    <tr>\n",
       "      <th>8</th>\n",
       "      <td>91950</td>\n",
       "      <td>51300</td>\n",
       "    </tr>\n",
       "    <tr>\n",
       "      <th>9</th>\n",
       "      <td>92011</td>\n",
       "      <td>121353</td>\n",
       "    </tr>\n",
       "  </tbody>\n",
       "</table>\n",
       "<p>10 rows × 2 columns</p>\n",
       "</div>"
      ],
      "text/plain": [
       "    Zipcode  Income\n",
       "0     92130  166789\n",
       "1     92126  105284\n",
       "2     92123   97691\n",
       "..      ...     ...\n",
       "7     92014  178080\n",
       "8     91950   51300\n",
       "9     92011  121353\n",
       "\n",
       "[10 rows x 2 columns]"
      ]
     },
     "execution_count": 4,
     "metadata": {},
     "output_type": "execute_result"
    }
   ],
   "source": [
    "df_income"
   ]
  },
  {
   "cell_type": "markdown",
   "metadata": {},
   "source": [
    "Print out the complete dataset for 92130. For 3 beds homes:"
   ]
  },
  {
   "cell_type": "code",
   "execution_count": 5,
   "metadata": {},
   "outputs": [
    {
     "data": {
      "text/html": [
       "<div>\n",
       "<style scoped>\n",
       "    .dataframe tbody tr th:only-of-type {\n",
       "        vertical-align: middle;\n",
       "    }\n",
       "\n",
       "    .dataframe tbody tr th {\n",
       "        vertical-align: top;\n",
       "    }\n",
       "\n",
       "    .dataframe thead th {\n",
       "        text-align: right;\n",
       "    }\n",
       "</style>\n",
       "<table border=\"1\" class=\"dataframe\">\n",
       "  <thead>\n",
       "    <tr style=\"text-align: right;\">\n",
       "      <th></th>\n",
       "      <th>ListItem-c11n-8-82-3__sc-10e22w8-0</th>\n",
       "      <th>StyledPropertyCardDataArea-c11n-8-82-3__sc-yipmu-0 href</th>\n",
       "      <th>StyledPropertyCardDataArea-c11n-8-82-3__sc-yipmu-0</th>\n",
       "      <th>StyledPropertyCardDataArea-c11n-8-82-3__sc-yipmu-0 2</th>\n",
       "      <th>...</th>\n",
       "      <th>StyledPropertyCardHomeDetailsList-c11n-8-82-3__sc-1xvdaej-0 6</th>\n",
       "      <th>StyledPropertyCardBadge-c11n-8-82-3__sc-6gojrl-0</th>\n",
       "      <th>Image-c11n-8-82-3__sc-1rtmhsc-0 src</th>\n",
       "      <th>StyledButtonIcon-c11n-8-82-3__sc-wpcbcc-1</th>\n",
       "    </tr>\n",
       "  </thead>\n",
       "  <tbody>\n",
       "    <tr>\n",
       "      <th>0</th>\n",
       "      <td>{\"@type\":\"SingleFamilyResidence\",\"@context\":\"h...</td>\n",
       "      <td>https://www.zillow.com/homedetails/5268-Grand-...</td>\n",
       "      <td>5268 Grand Del Mar Way UNIT 1, San Diego, CA 9...</td>\n",
       "      <td>PACIFIC SOTHEBY'S INT'L REALTY</td>\n",
       "      <td>...</td>\n",
       "      <td>sqft</td>\n",
       "      <td>Sold 05/01/2022</td>\n",
       "      <td>https://photos.zillowstatic.com/fp/cf44fc60e4f...</td>\n",
       "      <td>Save this home</td>\n",
       "    </tr>\n",
       "    <tr>\n",
       "      <th>1</th>\n",
       "      <td>{\"@type\":\"SingleFamilyResidence\",\"@context\":\"h...</td>\n",
       "      <td>https://www.zillow.com/homedetails/6931-The-Pr...</td>\n",
       "      <td>6931 The Preserve Way, San Diego, CA 92130</td>\n",
       "      <td>KELLER WILLIAMS REALTY</td>\n",
       "      <td>...</td>\n",
       "      <td>sqft</td>\n",
       "      <td>Sold 09/17/2021</td>\n",
       "      <td>https://photos.zillowstatic.com/fp/767add4e6da...</td>\n",
       "      <td>Save this home</td>\n",
       "    </tr>\n",
       "    <tr>\n",
       "      <th>2</th>\n",
       "      <td>NaN</td>\n",
       "      <td>NaN</td>\n",
       "      <td>NaN</td>\n",
       "      <td>NaN</td>\n",
       "      <td>...</td>\n",
       "      <td>NaN</td>\n",
       "      <td>NaN</td>\n",
       "      <td>NaN</td>\n",
       "      <td>NaN</td>\n",
       "    </tr>\n",
       "    <tr>\n",
       "      <th>...</th>\n",
       "      <td>...</td>\n",
       "      <td>...</td>\n",
       "      <td>...</td>\n",
       "      <td>...</td>\n",
       "      <td>...</td>\n",
       "      <td>...</td>\n",
       "      <td>...</td>\n",
       "      <td>...</td>\n",
       "      <td>...</td>\n",
       "    </tr>\n",
       "    <tr>\n",
       "      <th>318</th>\n",
       "      <td>{\"@type\":\"SingleFamilyResidence\",\"@context\":\"h...</td>\n",
       "      <td>https://www.zillow.com/homedetails/13537-Jades...</td>\n",
       "      <td>13537 Jadestone Way, San Diego, CA 92130</td>\n",
       "      <td>CONNIE XUE ZHAO, BROKER</td>\n",
       "      <td>...</td>\n",
       "      <td>sqft</td>\n",
       "      <td>Sold 10/01/2020</td>\n",
       "      <td>https://photos.zillowstatic.com/fp/fafb9e05495...</td>\n",
       "      <td>Save this home</td>\n",
       "    </tr>\n",
       "    <tr>\n",
       "      <th>319</th>\n",
       "      <td>{\"@type\":\"SingleFamilyResidence\",\"@context\":\"h...</td>\n",
       "      <td>https://www.zillow.com/homedetails/10674-Golde...</td>\n",
       "      <td>10674 Golden Willow Trl #156, San Diego, CA 92130</td>\n",
       "      <td>WILLIS ALLEN REAL ESTATE</td>\n",
       "      <td>...</td>\n",
       "      <td>sqft</td>\n",
       "      <td>Sold 06/29/2020</td>\n",
       "      <td>https://photos.zillowstatic.com/fp/535d037de16...</td>\n",
       "      <td>Save this home</td>\n",
       "    </tr>\n",
       "    <tr>\n",
       "      <th>320</th>\n",
       "      <td>{\"@type\":\"SingleFamilyResidence\",\"@context\":\"h...</td>\n",
       "      <td>https://www.zillow.com/homedetails/12684-Carme...</td>\n",
       "      <td>12684 Carmel Country Rd UNIT 3, San Diego, CA ...</td>\n",
       "      <td>EQUITY RE-PACIFIC COAST</td>\n",
       "      <td>...</td>\n",
       "      <td>sqft</td>\n",
       "      <td>Sold 07/02/2020</td>\n",
       "      <td>https://photos.zillowstatic.com/fp/29502de2d66...</td>\n",
       "      <td>Save this home</td>\n",
       "    </tr>\n",
       "  </tbody>\n",
       "</table>\n",
       "<p>321 rows × 15 columns</p>\n",
       "</div>"
      ],
      "text/plain": [
       "                    ListItem-c11n-8-82-3__sc-10e22w8-0  \\\n",
       "0    {\"@type\":\"SingleFamilyResidence\",\"@context\":\"h...   \n",
       "1    {\"@type\":\"SingleFamilyResidence\",\"@context\":\"h...   \n",
       "2                                                  NaN   \n",
       "..                                                 ...   \n",
       "318  {\"@type\":\"SingleFamilyResidence\",\"@context\":\"h...   \n",
       "319  {\"@type\":\"SingleFamilyResidence\",\"@context\":\"h...   \n",
       "320  {\"@type\":\"SingleFamilyResidence\",\"@context\":\"h...   \n",
       "\n",
       "    StyledPropertyCardDataArea-c11n-8-82-3__sc-yipmu-0 href  \\\n",
       "0    https://www.zillow.com/homedetails/5268-Grand-...        \n",
       "1    https://www.zillow.com/homedetails/6931-The-Pr...        \n",
       "2                                                  NaN        \n",
       "..                                                 ...        \n",
       "318  https://www.zillow.com/homedetails/13537-Jades...        \n",
       "319  https://www.zillow.com/homedetails/10674-Golde...        \n",
       "320  https://www.zillow.com/homedetails/12684-Carme...        \n",
       "\n",
       "    StyledPropertyCardDataArea-c11n-8-82-3__sc-yipmu-0  \\\n",
       "0    5268 Grand Del Mar Way UNIT 1, San Diego, CA 9...   \n",
       "1           6931 The Preserve Way, San Diego, CA 92130   \n",
       "2                                                  NaN   \n",
       "..                                                 ...   \n",
       "318           13537 Jadestone Way, San Diego, CA 92130   \n",
       "319  10674 Golden Willow Trl #156, San Diego, CA 92130   \n",
       "320  12684 Carmel Country Rd UNIT 3, San Diego, CA ...   \n",
       "\n",
       "    StyledPropertyCardDataArea-c11n-8-82-3__sc-yipmu-0 2  ...  \\\n",
       "0                       PACIFIC SOTHEBY'S INT'L REALTY    ...   \n",
       "1                               KELLER WILLIAMS REALTY    ...   \n",
       "2                                                  NaN    ...   \n",
       "..                                                 ...    ...   \n",
       "318                            CONNIE XUE ZHAO, BROKER    ...   \n",
       "319                           WILLIS ALLEN REAL ESTATE    ...   \n",
       "320                            EQUITY RE-PACIFIC COAST    ...   \n",
       "\n",
       "    StyledPropertyCardHomeDetailsList-c11n-8-82-3__sc-1xvdaej-0 6  \\\n",
       "0                                                 sqft              \n",
       "1                                                 sqft              \n",
       "2                                                  NaN              \n",
       "..                                                 ...              \n",
       "318                                               sqft              \n",
       "319                                               sqft              \n",
       "320                                               sqft              \n",
       "\n",
       "    StyledPropertyCardBadge-c11n-8-82-3__sc-6gojrl-0  \\\n",
       "0                                    Sold 05/01/2022   \n",
       "1                                    Sold 09/17/2021   \n",
       "2                                                NaN   \n",
       "..                                               ...   \n",
       "318                                  Sold 10/01/2020   \n",
       "319                                  Sold 06/29/2020   \n",
       "320                                  Sold 07/02/2020   \n",
       "\n",
       "                   Image-c11n-8-82-3__sc-1rtmhsc-0 src  \\\n",
       "0    https://photos.zillowstatic.com/fp/cf44fc60e4f...   \n",
       "1    https://photos.zillowstatic.com/fp/767add4e6da...   \n",
       "2                                                  NaN   \n",
       "..                                                 ...   \n",
       "318  https://photos.zillowstatic.com/fp/fafb9e05495...   \n",
       "319  https://photos.zillowstatic.com/fp/535d037de16...   \n",
       "320  https://photos.zillowstatic.com/fp/29502de2d66...   \n",
       "\n",
       "    StyledButtonIcon-c11n-8-82-3__sc-wpcbcc-1  \n",
       "0                              Save this home  \n",
       "1                              Save this home  \n",
       "2                                         NaN  \n",
       "..                                        ...  \n",
       "318                            Save this home  \n",
       "319                            Save this home  \n",
       "320                            Save this home  \n",
       "\n",
       "[321 rows x 15 columns]"
      ]
     },
     "execution_count": 5,
     "metadata": {},
     "output_type": "execute_result"
    }
   ],
   "source": [
    "df_92130_3beds "
   ]
  },
  {
   "cell_type": "markdown",
   "metadata": {},
   "source": [
    "Print out the **head** of the 92130 dataset for 2 bed homes."
   ]
  },
  {
   "cell_type": "code",
   "execution_count": 6,
   "metadata": {
    "scrolled": true
   },
   "outputs": [
    {
     "data": {
      "text/html": [
       "<div>\n",
       "<style scoped>\n",
       "    .dataframe tbody tr th:only-of-type {\n",
       "        vertical-align: middle;\n",
       "    }\n",
       "\n",
       "    .dataframe tbody tr th {\n",
       "        vertical-align: top;\n",
       "    }\n",
       "\n",
       "    .dataframe thead th {\n",
       "        text-align: right;\n",
       "    }\n",
       "</style>\n",
       "<table border=\"1\" class=\"dataframe\">\n",
       "  <thead>\n",
       "    <tr style=\"text-align: right;\">\n",
       "      <th></th>\n",
       "      <th>ListItem-c11n-8-82-3__sc-10e22w8-0</th>\n",
       "      <th>StyledPropertyCardDataArea-c11n-8-82-3__sc-yipmu-0 href</th>\n",
       "      <th>StyledPropertyCardDataArea-c11n-8-82-3__sc-yipmu-0</th>\n",
       "      <th>StyledPropertyCardDataArea-c11n-8-82-3__sc-yipmu-0 2</th>\n",
       "      <th>...</th>\n",
       "      <th>StyledPropertyCardHomeDetailsList-c11n-8-82-3__sc-1xvdaej-0 6</th>\n",
       "      <th>StyledPropertyCardBadge-c11n-8-82-3__sc-6gojrl-0</th>\n",
       "      <th>Image-c11n-8-82-3__sc-1rtmhsc-0 src</th>\n",
       "      <th>StyledButtonIcon-c11n-8-82-3__sc-wpcbcc-1</th>\n",
       "    </tr>\n",
       "  </thead>\n",
       "  <tbody>\n",
       "    <tr>\n",
       "      <th>0</th>\n",
       "      <td>{\"@type\":\"SingleFamilyResidence\",\"@context\":\"h...</td>\n",
       "      <td>https://www.zillow.com/homedetails/11652-Tierr...</td>\n",
       "      <td>11652 Tierra Del Sur, San Diego, CA 92130</td>\n",
       "      <td>BERKSHIRE HATHAWAY HOMESERVICE</td>\n",
       "      <td>...</td>\n",
       "      <td>sqft</td>\n",
       "      <td>Sold 11/23/2021</td>\n",
       "      <td>https://photos.zillowstatic.com/fp/fd16ed22242...</td>\n",
       "      <td>Save this home</td>\n",
       "    </tr>\n",
       "    <tr>\n",
       "      <th>1</th>\n",
       "      <td>{\"@type\":\"SingleFamilyResidence\",\"@context\":\"h...</td>\n",
       "      <td>https://www.zillow.com/homedetails/12416-Ruett...</td>\n",
       "      <td>12416 Ruette Alliante, San Diego, CA 92130</td>\n",
       "      <td>NaN</td>\n",
       "      <td>...</td>\n",
       "      <td>sqft</td>\n",
       "      <td>Sold 05/15/2022</td>\n",
       "      <td>https://maps.googleapis.com/maps/api/streetvie...</td>\n",
       "      <td>Save this home</td>\n",
       "    </tr>\n",
       "    <tr>\n",
       "      <th>2</th>\n",
       "      <td>NaN</td>\n",
       "      <td>NaN</td>\n",
       "      <td>NaN</td>\n",
       "      <td>NaN</td>\n",
       "      <td>...</td>\n",
       "      <td>NaN</td>\n",
       "      <td>NaN</td>\n",
       "      <td>NaN</td>\n",
       "      <td>NaN</td>\n",
       "    </tr>\n",
       "    <tr>\n",
       "      <th>3</th>\n",
       "      <td>{\"@type\":\"SingleFamilyResidence\",\"@context\":\"h...</td>\n",
       "      <td>https://www.zillow.com/homedetails/5102-Triple...</td>\n",
       "      <td>5102 Triple Crown Row, San Diego, CA 92130</td>\n",
       "      <td>$1.83M</td>\n",
       "      <td>...</td>\n",
       "      <td>sqft</td>\n",
       "      <td>Sold 07/30/2020</td>\n",
       "      <td>https://maps.googleapis.com/maps/api/staticmap...</td>\n",
       "      <td>Save this home</td>\n",
       "    </tr>\n",
       "    <tr>\n",
       "      <th>4</th>\n",
       "      <td>{\"@type\":\"SingleFamilyResidence\",\"@context\":\"h...</td>\n",
       "      <td>https://www.zillow.com/homedetails/5141-Tatter...</td>\n",
       "      <td>5141 Tattersall Sq, San Diego, CA 92130</td>\n",
       "      <td>NENA JO HASKINS &amp; ASSOC.</td>\n",
       "      <td>...</td>\n",
       "      <td>sqft</td>\n",
       "      <td>Sold 04/12/2021</td>\n",
       "      <td>https://photos.zillowstatic.com/fp/519a3e320af...</td>\n",
       "      <td>Save this home</td>\n",
       "    </tr>\n",
       "  </tbody>\n",
       "</table>\n",
       "<p>5 rows × 15 columns</p>\n",
       "</div>"
      ],
      "text/plain": [
       "                  ListItem-c11n-8-82-3__sc-10e22w8-0  \\\n",
       "0  {\"@type\":\"SingleFamilyResidence\",\"@context\":\"h...   \n",
       "1  {\"@type\":\"SingleFamilyResidence\",\"@context\":\"h...   \n",
       "2                                                NaN   \n",
       "3  {\"@type\":\"SingleFamilyResidence\",\"@context\":\"h...   \n",
       "4  {\"@type\":\"SingleFamilyResidence\",\"@context\":\"h...   \n",
       "\n",
       "  StyledPropertyCardDataArea-c11n-8-82-3__sc-yipmu-0 href  \\\n",
       "0  https://www.zillow.com/homedetails/11652-Tierr...        \n",
       "1  https://www.zillow.com/homedetails/12416-Ruett...        \n",
       "2                                                NaN        \n",
       "3  https://www.zillow.com/homedetails/5102-Triple...        \n",
       "4  https://www.zillow.com/homedetails/5141-Tatter...        \n",
       "\n",
       "  StyledPropertyCardDataArea-c11n-8-82-3__sc-yipmu-0  \\\n",
       "0          11652 Tierra Del Sur, San Diego, CA 92130   \n",
       "1         12416 Ruette Alliante, San Diego, CA 92130   \n",
       "2                                                NaN   \n",
       "3         5102 Triple Crown Row, San Diego, CA 92130   \n",
       "4            5141 Tattersall Sq, San Diego, CA 92130   \n",
       "\n",
       "  StyledPropertyCardDataArea-c11n-8-82-3__sc-yipmu-0 2  ...  \\\n",
       "0                     BERKSHIRE HATHAWAY HOMESERVICE    ...   \n",
       "1                                                NaN    ...   \n",
       "2                                                NaN    ...   \n",
       "3                                             $1.83M    ...   \n",
       "4                           NENA JO HASKINS & ASSOC.    ...   \n",
       "\n",
       "  StyledPropertyCardHomeDetailsList-c11n-8-82-3__sc-1xvdaej-0 6  \\\n",
       "0                                               sqft              \n",
       "1                                               sqft              \n",
       "2                                                NaN              \n",
       "3                                               sqft              \n",
       "4                                               sqft              \n",
       "\n",
       "  StyledPropertyCardBadge-c11n-8-82-3__sc-6gojrl-0  \\\n",
       "0                                  Sold 11/23/2021   \n",
       "1                                  Sold 05/15/2022   \n",
       "2                                              NaN   \n",
       "3                                  Sold 07/30/2020   \n",
       "4                                  Sold 04/12/2021   \n",
       "\n",
       "                 Image-c11n-8-82-3__sc-1rtmhsc-0 src  \\\n",
       "0  https://photos.zillowstatic.com/fp/fd16ed22242...   \n",
       "1  https://maps.googleapis.com/maps/api/streetvie...   \n",
       "2                                                NaN   \n",
       "3  https://maps.googleapis.com/maps/api/staticmap...   \n",
       "4  https://photos.zillowstatic.com/fp/519a3e320af...   \n",
       "\n",
       "  StyledButtonIcon-c11n-8-82-3__sc-wpcbcc-1  \n",
       "0                            Save this home  \n",
       "1                            Save this home  \n",
       "2                                       NaN  \n",
       "3                            Save this home  \n",
       "4                            Save this home  \n",
       "\n",
       "[5 rows x 15 columns]"
      ]
     },
     "execution_count": 6,
     "metadata": {},
     "output_type": "execute_result"
    }
   ],
   "source": [
    "df_92130_2beds.head()"
   ]
  },
  {
   "cell_type": "markdown",
   "metadata": {},
   "source": [
    "# Data Cleaning"
   ]
  },
  {
   "cell_type": "markdown",
   "metadata": {},
   "source": [
    "We create an list with all the dataset objects inside"
   ]
  },
  {
   "cell_type": "code",
   "execution_count": 7,
   "metadata": {},
   "outputs": [],
   "source": [
    "df_list = [df_92130_2beds,df_92130_3beds,df_92126_2beds,df_92126_3beds,df_92123_2beds,df_92123_3beds,df_92122_2beds,df_92122_3beds,df_92113_2beds,df_92113_3beds\n",
    "          ,df_92037_2beds,df_92037_3beds,df_92020_2beds,df_92020_3beds,df_92014_2beds,df_92014_3beds,df_91950_2beds,df_91950_3beds,df_92011_2beds,df_92011_3beds]"
   ]
  },
  {
   "cell_type": "markdown",
   "metadata": {},
   "source": [
    "To start the data cleaning we decided to rename the columns, so it would be easier to drop the ones we don't want.  \n",
    "We print out the name of the columns:\n"
   ]
  },
  {
   "cell_type": "code",
   "execution_count": 8,
   "metadata": {
    "scrolled": false
   },
   "outputs": [
    {
     "data": {
      "text/plain": [
       "Index(['ListItem-c11n-8-82-3__sc-10e22w8-0',\n",
       "       'StyledPropertyCardDataArea-c11n-8-82-3__sc-yipmu-0 href',\n",
       "       'StyledPropertyCardDataArea-c11n-8-82-3__sc-yipmu-0',\n",
       "       'StyledPropertyCardDataArea-c11n-8-82-3__sc-yipmu-0 2', 'price',\n",
       "       'StyledPropertyCardDataArea-c11n-8-82-3__sc-yipmu-0 4',\n",
       "       'StyledPropertyCardHomeDetailsList-c11n-8-82-3__sc-1xvdaej-0',\n",
       "       'StyledPropertyCardHomeDetailsList-c11n-8-82-3__sc-1xvdaej-0 2',\n",
       "       'StyledPropertyCardHomeDetailsList-c11n-8-82-3__sc-1xvdaej-0 3',\n",
       "       'StyledPropertyCardHomeDetailsList-c11n-8-82-3__sc-1xvdaej-0 4',\n",
       "       'StyledPropertyCardHomeDetailsList-c11n-8-82-3__sc-1xvdaej-0 5',\n",
       "       'StyledPropertyCardHomeDetailsList-c11n-8-82-3__sc-1xvdaej-0 6',\n",
       "       'StyledPropertyCardBadge-c11n-8-82-3__sc-6gojrl-0',\n",
       "       'Image-c11n-8-82-3__sc-1rtmhsc-0 src',\n",
       "       'StyledButtonIcon-c11n-8-82-3__sc-wpcbcc-1'],\n",
       "      dtype='object')"
      ]
     },
     "execution_count": 8,
     "metadata": {},
     "output_type": "execute_result"
    }
   ],
   "source": [
    "df_92130_2beds.columns"
   ]
  },
  {
   "cell_type": "markdown",
   "metadata": {},
   "source": [
    "We iterate through the df_list which is the list with all the data sets. Inside this for loop we iterate through each column and we rename the ones for the address and the price. All the rest we label them with a 1. "
   ]
  },
  {
   "cell_type": "code",
   "execution_count": 9,
   "metadata": {},
   "outputs": [],
   "source": [
    "for df in df_list:\n",
    "    l = []\n",
    "    for i in df.columns:\n",
    "        if i==\"price\":\n",
    "            l.append(\"Home price\")\n",
    "        elif i==\"StyledPropertyCardDataArea-c11n-8-82-3__sc-yipmu-0\":\n",
    "            l.append(\"Home address\")\n",
    "        else:\n",
    "            l.append(1)\n",
    "    df.columns = l"
   ]
  },
  {
   "cell_type": "markdown",
   "metadata": {},
   "source": [
    "Print out one object of the df_list. So you can see the changes we made"
   ]
  },
  {
   "cell_type": "code",
   "execution_count": 10,
   "metadata": {},
   "outputs": [
    {
     "data": {
      "text/html": [
       "<div>\n",
       "<style scoped>\n",
       "    .dataframe tbody tr th:only-of-type {\n",
       "        vertical-align: middle;\n",
       "    }\n",
       "\n",
       "    .dataframe tbody tr th {\n",
       "        vertical-align: top;\n",
       "    }\n",
       "\n",
       "    .dataframe thead th {\n",
       "        text-align: right;\n",
       "    }\n",
       "</style>\n",
       "<table border=\"1\" class=\"dataframe\">\n",
       "  <thead>\n",
       "    <tr style=\"text-align: right;\">\n",
       "      <th></th>\n",
       "      <th>1</th>\n",
       "      <th>1</th>\n",
       "      <th>Home address</th>\n",
       "      <th>1</th>\n",
       "      <th>...</th>\n",
       "      <th>1</th>\n",
       "      <th>1</th>\n",
       "      <th>1</th>\n",
       "      <th>1</th>\n",
       "    </tr>\n",
       "  </thead>\n",
       "  <tbody>\n",
       "    <tr>\n",
       "      <th>0</th>\n",
       "      <td>{\"@type\":\"SingleFamilyResidence\",\"@context\":\"h...</td>\n",
       "      <td>https://www.zillow.com/homedetails/5268-Grand-...</td>\n",
       "      <td>5268 Grand Del Mar Way UNIT 1, San Diego, CA 9...</td>\n",
       "      <td>PACIFIC SOTHEBY'S INT'L REALTY</td>\n",
       "      <td>...</td>\n",
       "      <td>sqft</td>\n",
       "      <td>Sold 05/01/2022</td>\n",
       "      <td>https://photos.zillowstatic.com/fp/cf44fc60e4f...</td>\n",
       "      <td>Save this home</td>\n",
       "    </tr>\n",
       "    <tr>\n",
       "      <th>1</th>\n",
       "      <td>{\"@type\":\"SingleFamilyResidence\",\"@context\":\"h...</td>\n",
       "      <td>https://www.zillow.com/homedetails/6931-The-Pr...</td>\n",
       "      <td>6931 The Preserve Way, San Diego, CA 92130</td>\n",
       "      <td>KELLER WILLIAMS REALTY</td>\n",
       "      <td>...</td>\n",
       "      <td>sqft</td>\n",
       "      <td>Sold 09/17/2021</td>\n",
       "      <td>https://photos.zillowstatic.com/fp/767add4e6da...</td>\n",
       "      <td>Save this home</td>\n",
       "    </tr>\n",
       "    <tr>\n",
       "      <th>2</th>\n",
       "      <td>NaN</td>\n",
       "      <td>NaN</td>\n",
       "      <td>NaN</td>\n",
       "      <td>NaN</td>\n",
       "      <td>...</td>\n",
       "      <td>NaN</td>\n",
       "      <td>NaN</td>\n",
       "      <td>NaN</td>\n",
       "      <td>NaN</td>\n",
       "    </tr>\n",
       "    <tr>\n",
       "      <th>...</th>\n",
       "      <td>...</td>\n",
       "      <td>...</td>\n",
       "      <td>...</td>\n",
       "      <td>...</td>\n",
       "      <td>...</td>\n",
       "      <td>...</td>\n",
       "      <td>...</td>\n",
       "      <td>...</td>\n",
       "      <td>...</td>\n",
       "    </tr>\n",
       "    <tr>\n",
       "      <th>318</th>\n",
       "      <td>{\"@type\":\"SingleFamilyResidence\",\"@context\":\"h...</td>\n",
       "      <td>https://www.zillow.com/homedetails/13537-Jades...</td>\n",
       "      <td>13537 Jadestone Way, San Diego, CA 92130</td>\n",
       "      <td>CONNIE XUE ZHAO, BROKER</td>\n",
       "      <td>...</td>\n",
       "      <td>sqft</td>\n",
       "      <td>Sold 10/01/2020</td>\n",
       "      <td>https://photos.zillowstatic.com/fp/fafb9e05495...</td>\n",
       "      <td>Save this home</td>\n",
       "    </tr>\n",
       "    <tr>\n",
       "      <th>319</th>\n",
       "      <td>{\"@type\":\"SingleFamilyResidence\",\"@context\":\"h...</td>\n",
       "      <td>https://www.zillow.com/homedetails/10674-Golde...</td>\n",
       "      <td>10674 Golden Willow Trl #156, San Diego, CA 92130</td>\n",
       "      <td>WILLIS ALLEN REAL ESTATE</td>\n",
       "      <td>...</td>\n",
       "      <td>sqft</td>\n",
       "      <td>Sold 06/29/2020</td>\n",
       "      <td>https://photos.zillowstatic.com/fp/535d037de16...</td>\n",
       "      <td>Save this home</td>\n",
       "    </tr>\n",
       "    <tr>\n",
       "      <th>320</th>\n",
       "      <td>{\"@type\":\"SingleFamilyResidence\",\"@context\":\"h...</td>\n",
       "      <td>https://www.zillow.com/homedetails/12684-Carme...</td>\n",
       "      <td>12684 Carmel Country Rd UNIT 3, San Diego, CA ...</td>\n",
       "      <td>EQUITY RE-PACIFIC COAST</td>\n",
       "      <td>...</td>\n",
       "      <td>sqft</td>\n",
       "      <td>Sold 07/02/2020</td>\n",
       "      <td>https://photos.zillowstatic.com/fp/29502de2d66...</td>\n",
       "      <td>Save this home</td>\n",
       "    </tr>\n",
       "  </tbody>\n",
       "</table>\n",
       "<p>321 rows × 15 columns</p>\n",
       "</div>"
      ],
      "text/plain": [
       "                                                     1  \\\n",
       "0    {\"@type\":\"SingleFamilyResidence\",\"@context\":\"h...   \n",
       "1    {\"@type\":\"SingleFamilyResidence\",\"@context\":\"h...   \n",
       "2                                                  NaN   \n",
       "..                                                 ...   \n",
       "318  {\"@type\":\"SingleFamilyResidence\",\"@context\":\"h...   \n",
       "319  {\"@type\":\"SingleFamilyResidence\",\"@context\":\"h...   \n",
       "320  {\"@type\":\"SingleFamilyResidence\",\"@context\":\"h...   \n",
       "\n",
       "                                                     1  \\\n",
       "0    https://www.zillow.com/homedetails/5268-Grand-...   \n",
       "1    https://www.zillow.com/homedetails/6931-The-Pr...   \n",
       "2                                                  NaN   \n",
       "..                                                 ...   \n",
       "318  https://www.zillow.com/homedetails/13537-Jades...   \n",
       "319  https://www.zillow.com/homedetails/10674-Golde...   \n",
       "320  https://www.zillow.com/homedetails/12684-Carme...   \n",
       "\n",
       "                                          Home address  \\\n",
       "0    5268 Grand Del Mar Way UNIT 1, San Diego, CA 9...   \n",
       "1           6931 The Preserve Way, San Diego, CA 92130   \n",
       "2                                                  NaN   \n",
       "..                                                 ...   \n",
       "318           13537 Jadestone Way, San Diego, CA 92130   \n",
       "319  10674 Golden Willow Trl #156, San Diego, CA 92130   \n",
       "320  12684 Carmel Country Rd UNIT 3, San Diego, CA ...   \n",
       "\n",
       "                                  1  ...     1                1  \\\n",
       "0    PACIFIC SOTHEBY'S INT'L REALTY  ...  sqft  Sold 05/01/2022   \n",
       "1            KELLER WILLIAMS REALTY  ...  sqft  Sold 09/17/2021   \n",
       "2                               NaN  ...   NaN              NaN   \n",
       "..                              ...  ...   ...              ...   \n",
       "318         CONNIE XUE ZHAO, BROKER  ...  sqft  Sold 10/01/2020   \n",
       "319        WILLIS ALLEN REAL ESTATE  ...  sqft  Sold 06/29/2020   \n",
       "320         EQUITY RE-PACIFIC COAST  ...  sqft  Sold 07/02/2020   \n",
       "\n",
       "                                                     1               1  \n",
       "0    https://photos.zillowstatic.com/fp/cf44fc60e4f...  Save this home  \n",
       "1    https://photos.zillowstatic.com/fp/767add4e6da...  Save this home  \n",
       "2                                                  NaN             NaN  \n",
       "..                                                 ...             ...  \n",
       "318  https://photos.zillowstatic.com/fp/fafb9e05495...  Save this home  \n",
       "319  https://photos.zillowstatic.com/fp/535d037de16...  Save this home  \n",
       "320  https://photos.zillowstatic.com/fp/29502de2d66...  Save this home  \n",
       "\n",
       "[321 rows x 15 columns]"
      ]
     },
     "execution_count": 10,
     "metadata": {},
     "output_type": "execute_result"
    }
   ],
   "source": [
    "df_list[1]"
   ]
  },
  {
   "cell_type": "markdown",
   "metadata": {},
   "source": [
    "Use a for loop to iterate through all the datasets inside df_list, and drop the columns with a header of 1. "
   ]
  },
  {
   "cell_type": "code",
   "execution_count": 11,
   "metadata": {},
   "outputs": [],
   "source": [
    "for i in range(0,20):\n",
    "    df_list[i].drop(columns=[1],inplace=True)"
   ]
  },
  {
   "cell_type": "markdown",
   "metadata": {},
   "source": [
    "From previous example, print **df_list[1]** again to see changes made. (columns dropped)"
   ]
  },
  {
   "cell_type": "code",
   "execution_count": 12,
   "metadata": {},
   "outputs": [
    {
     "data": {
      "text/html": [
       "<div>\n",
       "<style scoped>\n",
       "    .dataframe tbody tr th:only-of-type {\n",
       "        vertical-align: middle;\n",
       "    }\n",
       "\n",
       "    .dataframe tbody tr th {\n",
       "        vertical-align: top;\n",
       "    }\n",
       "\n",
       "    .dataframe thead th {\n",
       "        text-align: right;\n",
       "    }\n",
       "</style>\n",
       "<table border=\"1\" class=\"dataframe\">\n",
       "  <thead>\n",
       "    <tr style=\"text-align: right;\">\n",
       "      <th></th>\n",
       "      <th>Home address</th>\n",
       "      <th>Home price</th>\n",
       "    </tr>\n",
       "  </thead>\n",
       "  <tbody>\n",
       "    <tr>\n",
       "      <th>0</th>\n",
       "      <td>5268 Grand Del Mar Way UNIT 1, San Diego, CA 9...</td>\n",
       "      <td>$4.70M</td>\n",
       "    </tr>\n",
       "    <tr>\n",
       "      <th>1</th>\n",
       "      <td>6931 The Preserve Way, San Diego, CA 92130</td>\n",
       "      <td>$3.72M</td>\n",
       "    </tr>\n",
       "    <tr>\n",
       "      <th>2</th>\n",
       "      <td>NaN</td>\n",
       "      <td>NaN</td>\n",
       "    </tr>\n",
       "    <tr>\n",
       "      <th>...</th>\n",
       "      <td>...</td>\n",
       "      <td>...</td>\n",
       "    </tr>\n",
       "    <tr>\n",
       "      <th>318</th>\n",
       "      <td>13537 Jadestone Way, San Diego, CA 92130</td>\n",
       "      <td>$853,999</td>\n",
       "    </tr>\n",
       "    <tr>\n",
       "      <th>319</th>\n",
       "      <td>10674 Golden Willow Trl #156, San Diego, CA 92130</td>\n",
       "      <td>$853,000</td>\n",
       "    </tr>\n",
       "    <tr>\n",
       "      <th>320</th>\n",
       "      <td>12684 Carmel Country Rd UNIT 3, San Diego, CA ...</td>\n",
       "      <td>$850,000</td>\n",
       "    </tr>\n",
       "  </tbody>\n",
       "</table>\n",
       "<p>321 rows × 2 columns</p>\n",
       "</div>"
      ],
      "text/plain": [
       "                                          Home address Home price\n",
       "0    5268 Grand Del Mar Way UNIT 1, San Diego, CA 9...     $4.70M\n",
       "1           6931 The Preserve Way, San Diego, CA 92130     $3.72M\n",
       "2                                                  NaN        NaN\n",
       "..                                                 ...        ...\n",
       "318           13537 Jadestone Way, San Diego, CA 92130   $853,999\n",
       "319  10674 Golden Willow Trl #156, San Diego, CA 92130   $853,000\n",
       "320  12684 Carmel Country Rd UNIT 3, San Diego, CA ...   $850,000\n",
       "\n",
       "[321 rows x 2 columns]"
      ]
     },
     "execution_count": 12,
     "metadata": {},
     "output_type": "execute_result"
    }
   ],
   "source": [
    "df_list[1]"
   ]
  },
  {
   "cell_type": "markdown",
   "metadata": {},
   "source": [
    "Create an array of strings with the name of all the datasets, so in the future we can realte their index number with the dataset. "
   ]
  },
  {
   "cell_type": "code",
   "execution_count": 13,
   "metadata": {},
   "outputs": [],
   "source": [
    "df_st = [\"df_92130_2beds\",\"df_92130_3beds\",\"df_92126_2beds\",\"df_92126_3beds\",\"df_92123_2beds\",\"df_92123_3beds\",\"df_92122_2beds\",\"df_92122_3beds\",\"df_92113_2beds\",\"df_92113_3beds\"\n",
    "          ,\"df_92037_2beds\",\"df_92037_3beds\",\"df_92020_2beds\",\"df_92020_3beds\",\"df_92014_2beds\",\"df_92014_3beds\",\"df_91950_2beds\",\"df_91950_3beds\",\"df_92011_2beds\",\"df_92011_3beds\"]"
   ]
  },
  {
   "cell_type": "markdown",
   "metadata": {},
   "source": [
    "Example of how we will use it:"
   ]
  },
  {
   "cell_type": "code",
   "execution_count": 14,
   "metadata": {
    "scrolled": true
   },
   "outputs": [
    {
     "data": {
      "text/html": [
       "<div>\n",
       "<style scoped>\n",
       "    .dataframe tbody tr th:only-of-type {\n",
       "        vertical-align: middle;\n",
       "    }\n",
       "\n",
       "    .dataframe tbody tr th {\n",
       "        vertical-align: top;\n",
       "    }\n",
       "\n",
       "    .dataframe thead th {\n",
       "        text-align: right;\n",
       "    }\n",
       "</style>\n",
       "<table border=\"1\" class=\"dataframe\">\n",
       "  <thead>\n",
       "    <tr style=\"text-align: right;\">\n",
       "      <th></th>\n",
       "      <th>Home address</th>\n",
       "      <th>Home price</th>\n",
       "    </tr>\n",
       "  </thead>\n",
       "  <tbody>\n",
       "    <tr>\n",
       "      <th>0</th>\n",
       "      <td>5268 Grand Del Mar Way UNIT 1, San Diego, CA 9...</td>\n",
       "      <td>$4.70M</td>\n",
       "    </tr>\n",
       "    <tr>\n",
       "      <th>1</th>\n",
       "      <td>6931 The Preserve Way, San Diego, CA 92130</td>\n",
       "      <td>$3.72M</td>\n",
       "    </tr>\n",
       "    <tr>\n",
       "      <th>2</th>\n",
       "      <td>NaN</td>\n",
       "      <td>NaN</td>\n",
       "    </tr>\n",
       "    <tr>\n",
       "      <th>...</th>\n",
       "      <td>...</td>\n",
       "      <td>...</td>\n",
       "    </tr>\n",
       "    <tr>\n",
       "      <th>318</th>\n",
       "      <td>13537 Jadestone Way, San Diego, CA 92130</td>\n",
       "      <td>$853,999</td>\n",
       "    </tr>\n",
       "    <tr>\n",
       "      <th>319</th>\n",
       "      <td>10674 Golden Willow Trl #156, San Diego, CA 92130</td>\n",
       "      <td>$853,000</td>\n",
       "    </tr>\n",
       "    <tr>\n",
       "      <th>320</th>\n",
       "      <td>12684 Carmel Country Rd UNIT 3, San Diego, CA ...</td>\n",
       "      <td>$850,000</td>\n",
       "    </tr>\n",
       "  </tbody>\n",
       "</table>\n",
       "<p>321 rows × 2 columns</p>\n",
       "</div>"
      ],
      "text/plain": [
       "                                          Home address Home price\n",
       "0    5268 Grand Del Mar Way UNIT 1, San Diego, CA 9...     $4.70M\n",
       "1           6931 The Preserve Way, San Diego, CA 92130     $3.72M\n",
       "2                                                  NaN        NaN\n",
       "..                                                 ...        ...\n",
       "318           13537 Jadestone Way, San Diego, CA 92130   $853,999\n",
       "319  10674 Golden Willow Trl #156, San Diego, CA 92130   $853,000\n",
       "320  12684 Carmel Country Rd UNIT 3, San Diego, CA ...   $850,000\n",
       "\n",
       "[321 rows x 2 columns]"
      ]
     },
     "execution_count": 14,
     "metadata": {},
     "output_type": "execute_result"
    }
   ],
   "source": [
    "df_list[df_st.index(\"df_92130_3beds\")]"
   ]
  },
  {
   "cell_type": "markdown",
   "metadata": {},
   "source": [
    "Drop null value rows and reset the index of the dataframe"
   ]
  },
  {
   "cell_type": "code",
   "execution_count": 15,
   "metadata": {},
   "outputs": [],
   "source": [
    "for i in range(0,20):\n",
    "    df_list[i].dropna(inplace=True)\n",
    "    df_list[i].reset_index(drop=True,inplace=True)"
   ]
  },
  {
   "cell_type": "markdown",
   "metadata": {},
   "source": [
    "Convert all price cells to int"
   ]
  },
  {
   "cell_type": "code",
   "execution_count": 16,
   "metadata": {},
   "outputs": [],
   "source": [
    "tens = {'M': 1e6}\n",
    "f = lambda x: int(float(x[:-1])*tens[x[-1]])\n",
    "for i in range(0,20):\n",
    "    for j in range(len(df_list[i]['Home price'])):\n",
    "        df_list[i]['Home price'][j] = df_list[i]['Home price'][j].replace(',','')\n",
    "        if ('$' in df_list[i]['Home price'][j]):\n",
    "            df_list[i]['Home price'][j] = df_list[i]['Home price'][j].replace('$','')\n",
    "            if 'M' in  df_list[i]['Home price'][j]:\n",
    "                 df_list[i]['Home price'][j] = f(df_list[i]['Home price'][j])\n",
    "            else:\n",
    "                df_list[i]['Home price'][j] = int(df_list[i]['Home price'][j])\n",
    "        elif (not df_list[i]['Home price'][j][0].isdigit()):\n",
    "            df_list[i]['Home price'][j] = -1"
   ]
  },
  {
   "cell_type": "markdown",
   "metadata": {},
   "source": [
    "What it looks like now"
   ]
  },
  {
   "cell_type": "code",
   "execution_count": 17,
   "metadata": {},
   "outputs": [
    {
     "data": {
      "text/html": [
       "<div>\n",
       "<style scoped>\n",
       "    .dataframe tbody tr th:only-of-type {\n",
       "        vertical-align: middle;\n",
       "    }\n",
       "\n",
       "    .dataframe tbody tr th {\n",
       "        vertical-align: top;\n",
       "    }\n",
       "\n",
       "    .dataframe thead th {\n",
       "        text-align: right;\n",
       "    }\n",
       "</style>\n",
       "<table border=\"1\" class=\"dataframe\">\n",
       "  <thead>\n",
       "    <tr style=\"text-align: right;\">\n",
       "      <th></th>\n",
       "      <th>Home address</th>\n",
       "      <th>Home price</th>\n",
       "    </tr>\n",
       "  </thead>\n",
       "  <tbody>\n",
       "    <tr>\n",
       "      <th>0</th>\n",
       "      <td>11652 Tierra Del Sur, San Diego, CA 92130</td>\n",
       "      <td>2240000</td>\n",
       "    </tr>\n",
       "    <tr>\n",
       "      <th>1</th>\n",
       "      <td>12416 Ruette Alliante, San Diego, CA 92130</td>\n",
       "      <td>1950000</td>\n",
       "    </tr>\n",
       "    <tr>\n",
       "      <th>2</th>\n",
       "      <td>5102 Triple Crown Row, San Diego, CA 92130</td>\n",
       "      <td>-1</td>\n",
       "    </tr>\n",
       "    <tr>\n",
       "      <th>3</th>\n",
       "      <td>5141 Tattersall Sq, San Diego, CA 92130</td>\n",
       "      <td>1800000</td>\n",
       "    </tr>\n",
       "    <tr>\n",
       "      <th>4</th>\n",
       "      <td>5172 Triple Crown Row, San Diego, CA 92130</td>\n",
       "      <td>1750000</td>\n",
       "    </tr>\n",
       "  </tbody>\n",
       "</table>\n",
       "</div>"
      ],
      "text/plain": [
       "                                 Home address Home price\n",
       "0   11652 Tierra Del Sur, San Diego, CA 92130    2240000\n",
       "1  12416 Ruette Alliante, San Diego, CA 92130    1950000\n",
       "2  5102 Triple Crown Row, San Diego, CA 92130         -1\n",
       "3     5141 Tattersall Sq, San Diego, CA 92130    1800000\n",
       "4  5172 Triple Crown Row, San Diego, CA 92130    1750000"
      ]
     },
     "execution_count": 17,
     "metadata": {},
     "output_type": "execute_result"
    }
   ],
   "source": [
    "df_list[0].head()"
   ]
  },
  {
   "cell_type": "markdown",
   "metadata": {},
   "source": [
    "Extra cleaning to filter out non integer value"
   ]
  },
  {
   "cell_type": "code",
   "execution_count": 18,
   "metadata": {},
   "outputs": [],
   "source": [
    "for i in range(0,20):\n",
    "    df_list[i].drop(df_list[i][df_list[i]['Home price'] == -1].index, inplace = True)\n",
    "    df_list[i].reset_index(drop=True,inplace=True)"
   ]
  },
  {
   "cell_type": "markdown",
   "metadata": {},
   "source": [
    "What it looks like now"
   ]
  },
  {
   "cell_type": "code",
   "execution_count": 19,
   "metadata": {},
   "outputs": [
    {
     "data": {
      "text/html": [
       "<div>\n",
       "<style scoped>\n",
       "    .dataframe tbody tr th:only-of-type {\n",
       "        vertical-align: middle;\n",
       "    }\n",
       "\n",
       "    .dataframe tbody tr th {\n",
       "        vertical-align: top;\n",
       "    }\n",
       "\n",
       "    .dataframe thead th {\n",
       "        text-align: right;\n",
       "    }\n",
       "</style>\n",
       "<table border=\"1\" class=\"dataframe\">\n",
       "  <thead>\n",
       "    <tr style=\"text-align: right;\">\n",
       "      <th></th>\n",
       "      <th>Home address</th>\n",
       "      <th>Home price</th>\n",
       "    </tr>\n",
       "  </thead>\n",
       "  <tbody>\n",
       "    <tr>\n",
       "      <th>0</th>\n",
       "      <td>11652 Tierra Del Sur, San Diego, CA 92130</td>\n",
       "      <td>2240000</td>\n",
       "    </tr>\n",
       "    <tr>\n",
       "      <th>1</th>\n",
       "      <td>12416 Ruette Alliante, San Diego, CA 92130</td>\n",
       "      <td>1950000</td>\n",
       "    </tr>\n",
       "    <tr>\n",
       "      <th>2</th>\n",
       "      <td>5141 Tattersall Sq, San Diego, CA 92130</td>\n",
       "      <td>1800000</td>\n",
       "    </tr>\n",
       "    <tr>\n",
       "      <th>3</th>\n",
       "      <td>5172 Triple Crown Row, San Diego, CA 92130</td>\n",
       "      <td>1750000</td>\n",
       "    </tr>\n",
       "    <tr>\n",
       "      <th>4</th>\n",
       "      <td>14251 Fox Run Row, San Diego, CA 92130</td>\n",
       "      <td>1600000</td>\n",
       "    </tr>\n",
       "  </tbody>\n",
       "</table>\n",
       "</div>"
      ],
      "text/plain": [
       "                                 Home address Home price\n",
       "0   11652 Tierra Del Sur, San Diego, CA 92130    2240000\n",
       "1  12416 Ruette Alliante, San Diego, CA 92130    1950000\n",
       "2     5141 Tattersall Sq, San Diego, CA 92130    1800000\n",
       "3  5172 Triple Crown Row, San Diego, CA 92130    1750000\n",
       "4      14251 Fox Run Row, San Diego, CA 92130    1600000"
      ]
     },
     "execution_count": 19,
     "metadata": {},
     "output_type": "execute_result"
    }
   ],
   "source": [
    "df_list[0].head()"
   ]
  },
  {
   "cell_type": "markdown",
   "metadata": {},
   "source": [
    "# Data Analysis & Results (EDA)"
   ]
  },
  {
   "cell_type": "code",
   "execution_count": 20,
   "metadata": {},
   "outputs": [],
   "source": [
    "average_price_all = []\n",
    "average_price_2beds = []\n",
    "average_price_3beds = []\n",
    "for i in range(0,20):\n",
    "    average_price_all.append(df_list[i]['Home price'].mean())\n",
    "    if \"2beds\" in df_st[i]:\n",
    "        average_price_2beds.append(df_list[i]['Home price'].mean())\n",
    "    elif \"3beds\" in df_st[i]:\n",
    "        average_price_3beds.append(df_list[i]['Home price'].mean())"
   ]
  },
  {
   "cell_type": "markdown",
   "metadata": {},
   "source": [
    "Average home price for 2beds in a list"
   ]
  },
  {
   "cell_type": "code",
   "execution_count": 21,
   "metadata": {},
   "outputs": [
    {
     "data": {
      "text/plain": [
       "[841825.2454212455,\n",
       " 620135.0041666667,\n",
       " 536539.2878787878,\n",
       " 728710.975,\n",
       " 454120.0,\n",
       " 1373164.7238493725,\n",
       " 490219.0307692308,\n",
       " 1502768.55,\n",
       " 410505.345323741,\n",
       " 657476.7291666666]"
      ]
     },
     "execution_count": 21,
     "metadata": {},
     "output_type": "execute_result"
    }
   ],
   "source": [
    "average_price_2beds"
   ]
  },
  {
   "cell_type": "markdown",
   "metadata": {},
   "source": [
    "Average home price for 3beds in a list"
   ]
  },
  {
   "cell_type": "code",
   "execution_count": 22,
   "metadata": {},
   "outputs": [
    {
     "data": {
      "text/plain": [
       "[1264252.4625,\n",
       " 879635.2875,\n",
       " 936622.7282051282,\n",
       " 1127926.5,\n",
       " 601578.585,\n",
       " 2512344.315018315,\n",
       " 821772.2,\n",
       " 2321829.714953271,\n",
       " 580477.625,\n",
       " 969244.2375]"
      ]
     },
     "execution_count": 22,
     "metadata": {},
     "output_type": "execute_result"
    }
   ],
   "source": [
    "average_price_3beds"
   ]
  },
  {
   "cell_type": "code",
   "execution_count": 23,
   "metadata": {},
   "outputs": [],
   "source": [
    "df_income_2beds = df_income.copy(deep=True)\n",
    "df_income_3beds = df_income.copy(deep=True)\n",
    "df_income_2beds['Home price'] = average_price_2beds\n",
    "df_income_3beds['Home price'] = average_price_3beds"
   ]
  },
  {
   "cell_type": "code",
   "execution_count": 24,
   "metadata": {},
   "outputs": [
    {
     "data": {
      "text/html": [
       "<div>\n",
       "<style scoped>\n",
       "    .dataframe tbody tr th:only-of-type {\n",
       "        vertical-align: middle;\n",
       "    }\n",
       "\n",
       "    .dataframe tbody tr th {\n",
       "        vertical-align: top;\n",
       "    }\n",
       "\n",
       "    .dataframe thead th {\n",
       "        text-align: right;\n",
       "    }\n",
       "</style>\n",
       "<table border=\"1\" class=\"dataframe\">\n",
       "  <thead>\n",
       "    <tr style=\"text-align: right;\">\n",
       "      <th></th>\n",
       "      <th>Zipcode</th>\n",
       "      <th>Income</th>\n",
       "    </tr>\n",
       "  </thead>\n",
       "  <tbody>\n",
       "    <tr>\n",
       "      <th>count</th>\n",
       "      <td>10.00</td>\n",
       "      <td>10.00</td>\n",
       "    </tr>\n",
       "    <tr>\n",
       "      <th>mean</th>\n",
       "      <td>92064.60</td>\n",
       "      <td>106178.80</td>\n",
       "    </tr>\n",
       "    <tr>\n",
       "      <th>std</th>\n",
       "      <td>65.33</td>\n",
       "      <td>42765.04</td>\n",
       "    </tr>\n",
       "    <tr>\n",
       "      <th>...</th>\n",
       "      <td>...</td>\n",
       "      <td>...</td>\n",
       "    </tr>\n",
       "    <tr>\n",
       "      <th>50%</th>\n",
       "      <td>92075.00</td>\n",
       "      <td>101487.50</td>\n",
       "    </tr>\n",
       "    <tr>\n",
       "      <th>75%</th>\n",
       "      <td>92122.75</td>\n",
       "      <td>124565.25</td>\n",
       "    </tr>\n",
       "    <tr>\n",
       "      <th>max</th>\n",
       "      <td>92130.00</td>\n",
       "      <td>178080.00</td>\n",
       "    </tr>\n",
       "  </tbody>\n",
       "</table>\n",
       "<p>8 rows × 2 columns</p>\n",
       "</div>"
      ],
      "text/plain": [
       "        Zipcode     Income\n",
       "count     10.00      10.00\n",
       "mean   92064.60  106178.80\n",
       "std       65.33   42765.04\n",
       "...         ...        ...\n",
       "50%    92075.00  101487.50\n",
       "75%    92122.75  124565.25\n",
       "max    92130.00  178080.00\n",
       "\n",
       "[8 rows x 2 columns]"
      ]
     },
     "execution_count": 24,
     "metadata": {},
     "output_type": "execute_result"
    }
   ],
   "source": [
    "df_income.describe()"
   ]
  },
  {
   "cell_type": "code",
   "execution_count": 25,
   "metadata": {},
   "outputs": [
    {
     "data": {
      "text/html": [
       "<div>\n",
       "<style scoped>\n",
       "    .dataframe tbody tr th:only-of-type {\n",
       "        vertical-align: middle;\n",
       "    }\n",
       "\n",
       "    .dataframe tbody tr th {\n",
       "        vertical-align: top;\n",
       "    }\n",
       "\n",
       "    .dataframe thead th {\n",
       "        text-align: right;\n",
       "    }\n",
       "</style>\n",
       "<table border=\"1\" class=\"dataframe\">\n",
       "  <thead>\n",
       "    <tr style=\"text-align: right;\">\n",
       "      <th></th>\n",
       "      <th>Zipcode</th>\n",
       "      <th>Income</th>\n",
       "      <th>Home price</th>\n",
       "    </tr>\n",
       "  </thead>\n",
       "  <tbody>\n",
       "    <tr>\n",
       "      <th>count</th>\n",
       "      <td>10.00</td>\n",
       "      <td>10.00</td>\n",
       "      <td>1.00e+01</td>\n",
       "    </tr>\n",
       "    <tr>\n",
       "      <th>mean</th>\n",
       "      <td>92064.60</td>\n",
       "      <td>106178.80</td>\n",
       "      <td>7.62e+05</td>\n",
       "    </tr>\n",
       "    <tr>\n",
       "      <th>std</th>\n",
       "      <td>65.33</td>\n",
       "      <td>42765.04</td>\n",
       "      <td>3.81e+05</td>\n",
       "    </tr>\n",
       "    <tr>\n",
       "      <th>...</th>\n",
       "      <td>...</td>\n",
       "      <td>...</td>\n",
       "      <td>...</td>\n",
       "    </tr>\n",
       "    <tr>\n",
       "      <th>50%</th>\n",
       "      <td>92075.00</td>\n",
       "      <td>101487.50</td>\n",
       "      <td>6.39e+05</td>\n",
       "    </tr>\n",
       "    <tr>\n",
       "      <th>75%</th>\n",
       "      <td>92122.75</td>\n",
       "      <td>124565.25</td>\n",
       "      <td>8.14e+05</td>\n",
       "    </tr>\n",
       "    <tr>\n",
       "      <th>max</th>\n",
       "      <td>92130.00</td>\n",
       "      <td>178080.00</td>\n",
       "      <td>1.50e+06</td>\n",
       "    </tr>\n",
       "  </tbody>\n",
       "</table>\n",
       "<p>8 rows × 3 columns</p>\n",
       "</div>"
      ],
      "text/plain": [
       "        Zipcode     Income  Home price\n",
       "count     10.00      10.00    1.00e+01\n",
       "mean   92064.60  106178.80    7.62e+05\n",
       "std       65.33   42765.04    3.81e+05\n",
       "...         ...        ...         ...\n",
       "50%    92075.00  101487.50    6.39e+05\n",
       "75%    92122.75  124565.25    8.14e+05\n",
       "max    92130.00  178080.00    1.50e+06\n",
       "\n",
       "[8 rows x 3 columns]"
      ]
     },
     "execution_count": 25,
     "metadata": {},
     "output_type": "execute_result"
    }
   ],
   "source": [
    "df_income_2beds.describe()"
   ]
  },
  {
   "cell_type": "code",
   "execution_count": 26,
   "metadata": {},
   "outputs": [
    {
     "data": {
      "text/html": [
       "<div>\n",
       "<style scoped>\n",
       "    .dataframe tbody tr th:only-of-type {\n",
       "        vertical-align: middle;\n",
       "    }\n",
       "\n",
       "    .dataframe tbody tr th {\n",
       "        vertical-align: top;\n",
       "    }\n",
       "\n",
       "    .dataframe thead th {\n",
       "        text-align: right;\n",
       "    }\n",
       "</style>\n",
       "<table border=\"1\" class=\"dataframe\">\n",
       "  <thead>\n",
       "    <tr style=\"text-align: right;\">\n",
       "      <th></th>\n",
       "      <th>Zipcode</th>\n",
       "      <th>Income</th>\n",
       "      <th>Home price</th>\n",
       "    </tr>\n",
       "  </thead>\n",
       "  <tbody>\n",
       "    <tr>\n",
       "      <th>count</th>\n",
       "      <td>10.00</td>\n",
       "      <td>10.00</td>\n",
       "      <td>1.00e+01</td>\n",
       "    </tr>\n",
       "    <tr>\n",
       "      <th>mean</th>\n",
       "      <td>92064.60</td>\n",
       "      <td>106178.80</td>\n",
       "      <td>1.20e+06</td>\n",
       "    </tr>\n",
       "    <tr>\n",
       "      <th>std</th>\n",
       "      <td>65.33</td>\n",
       "      <td>42765.04</td>\n",
       "      <td>6.75e+05</td>\n",
       "    </tr>\n",
       "    <tr>\n",
       "      <th>...</th>\n",
       "      <td>...</td>\n",
       "      <td>...</td>\n",
       "      <td>...</td>\n",
       "    </tr>\n",
       "    <tr>\n",
       "      <th>50%</th>\n",
       "      <td>92075.00</td>\n",
       "      <td>101487.50</td>\n",
       "      <td>9.53e+05</td>\n",
       "    </tr>\n",
       "    <tr>\n",
       "      <th>75%</th>\n",
       "      <td>92122.75</td>\n",
       "      <td>124565.25</td>\n",
       "      <td>1.23e+06</td>\n",
       "    </tr>\n",
       "    <tr>\n",
       "      <th>max</th>\n",
       "      <td>92130.00</td>\n",
       "      <td>178080.00</td>\n",
       "      <td>2.51e+06</td>\n",
       "    </tr>\n",
       "  </tbody>\n",
       "</table>\n",
       "<p>8 rows × 3 columns</p>\n",
       "</div>"
      ],
      "text/plain": [
       "        Zipcode     Income  Home price\n",
       "count     10.00      10.00    1.00e+01\n",
       "mean   92064.60  106178.80    1.20e+06\n",
       "std       65.33   42765.04    6.75e+05\n",
       "...         ...        ...         ...\n",
       "50%    92075.00  101487.50    9.53e+05\n",
       "75%    92122.75  124565.25    1.23e+06\n",
       "max    92130.00  178080.00    2.51e+06\n",
       "\n",
       "[8 rows x 3 columns]"
      ]
     },
     "execution_count": 26,
     "metadata": {},
     "output_type": "execute_result"
    }
   ],
   "source": [
    "df_income_3beds.describe()"
   ]
  },
  {
   "cell_type": "markdown",
   "metadata": {},
   "source": [
    "Bar graph for income and zipcode"
   ]
  },
  {
   "cell_type": "code",
   "execution_count": 27,
   "metadata": {},
   "outputs": [
    {
     "data": {
      "text/plain": [
       "<AxesSubplot:xlabel='Zipcode', ylabel='Income'>"
      ]
     },
     "execution_count": 27,
     "metadata": {},
     "output_type": "execute_result"
    },
    {
     "data": {
      "image/png": "[encoded data removed]",
      "text/plain": [
       "<Figure size 720x360 with 1 Axes>"
      ]
     },
     "metadata": {},
     "output_type": "display_data"
    }
   ],
   "source": [
    "plot_order = df_income.groupby('Zipcode')['Income'].sum().sort_values(ascending=True).index.values\n",
    "sns.barplot(x=\"Zipcode\",y=\"Income\",data=df_income, order=plot_order)"
   ]
  },
  {
   "cell_type": "markdown",
   "metadata": {},
   "source": [
    "Bar graph for average price for 2beds"
   ]
  },
  {
   "cell_type": "code",
   "execution_count": 28,
   "metadata": {},
   "outputs": [
    {
     "data": {
      "text/plain": [
       "<AxesSubplot:xlabel='Zipcode', ylabel='Home price'>"
      ]
     },
     "execution_count": 28,
     "metadata": {},
     "output_type": "execute_result"
    },
    {
     "data": {
      "image/png": "[encoded data removed]",
      "text/plain": [
       "<Figure size 720x360 with 1 Axes>"
      ]
     },
     "metadata": {},
     "output_type": "display_data"
    }
   ],
   "source": [
    "plot_order = df_income_2beds.groupby('Zipcode')['Home price'].sum().sort_values(ascending=True).index.values\n",
    "sns.barplot(x=\"Zipcode\",y=\"Home price\",data=df_income_2beds,order=plot_order)"
   ]
  },
  {
   "cell_type": "code",
   "execution_count": 29,
   "metadata": {},
   "outputs": [
    {
     "data": {
      "text/plain": [
       "<AxesSubplot:xlabel='Zipcode', ylabel='Home price'>"
      ]
     },
     "execution_count": 29,
     "metadata": {},
     "output_type": "execute_result"
    },
    {
     "data": {
      "image/png": "[encoded data removed]",
      "text/plain": [
       "<Figure size 720x360 with 1 Axes>"
      ]
     },
     "metadata": {},
     "output_type": "display_data"
    }
   ],
   "source": [
    "plot_order = df_income_3beds.groupby('Zipcode')['Home price'].sum().sort_values(ascending=True).index.values\n",
    "sns.barplot(x=\"Zipcode\",y=\"Home price\",data=df_income_3beds,order=plot_order)"
   ]
  },
  {
   "cell_type": "code",
   "execution_count": 30,
   "metadata": {},
   "outputs": [
    {
     "data": {
      "text/plain": [
       "<AxesSubplot:xlabel='Income', ylabel='Home price'>"
      ]
     },
     "execution_count": 30,
     "metadata": {},
     "output_type": "execute_result"
    },
    {
     "data": {
      "image/png": "[encoded data removed]",
      "text/plain": [
       "<Figure size 720x360 with 1 Axes>"
      ]
     },
     "metadata": {},
     "output_type": "display_data"
    }
   ],
   "source": [
    "sns.regplot(data=df_income_2beds, x=\"Income\", y=\"Home price\")"
   ]
  },
  {
   "cell_type": "code",
   "execution_count": 31,
   "metadata": {},
   "outputs": [
    {
     "data": {
      "text/plain": [
       "<AxesSubplot:xlabel='Income', ylabel='Home price'>"
      ]
     },
     "execution_count": 31,
     "metadata": {},
     "output_type": "execute_result"
    },
    {
     "data": {
      "image/png": "[encoded data removed]",
      "text/plain": [
       "<Figure size 720x360 with 1 Axes>"
      ]
     },
     "metadata": {},
     "output_type": "display_data"
    }
   ],
   "source": [
    "sns.regplot(data=df_income_3beds, x=\"Income\", y=\"Home price\")"
   ]
  },
  {
   "cell_type": "code",
   "execution_count": 32,
   "metadata": {},
   "outputs": [],
   "source": [
    "df_income_2beds['Ratio'] = df_income_2beds['Home price']/df_income_2beds['Income']\n",
    "df_income_3beds['Ratio'] = df_income_3beds['Home price']/df_income_3beds['Income']"
   ]
  },
  {
   "cell_type": "code",
   "execution_count": 33,
   "metadata": {},
   "outputs": [
    {
     "data": {
      "text/html": [
       "<div>\n",
       "<style scoped>\n",
       "    .dataframe tbody tr th:only-of-type {\n",
       "        vertical-align: middle;\n",
       "    }\n",
       "\n",
       "    .dataframe tbody tr th {\n",
       "        vertical-align: top;\n",
       "    }\n",
       "\n",
       "    .dataframe thead th {\n",
       "        text-align: right;\n",
       "    }\n",
       "</style>\n",
       "<table border=\"1\" class=\"dataframe\">\n",
       "  <thead>\n",
       "    <tr style=\"text-align: right;\">\n",
       "      <th></th>\n",
       "      <th>Zipcode</th>\n",
       "      <th>Income</th>\n",
       "      <th>Home price</th>\n",
       "      <th>Ratio</th>\n",
       "    </tr>\n",
       "  </thead>\n",
       "  <tbody>\n",
       "    <tr>\n",
       "      <th>0</th>\n",
       "      <td>92130</td>\n",
       "      <td>166789</td>\n",
       "      <td>8.42e+05</td>\n",
       "      <td>5.05</td>\n",
       "    </tr>\n",
       "    <tr>\n",
       "      <th>1</th>\n",
       "      <td>92126</td>\n",
       "      <td>105284</td>\n",
       "      <td>6.20e+05</td>\n",
       "      <td>5.89</td>\n",
       "    </tr>\n",
       "    <tr>\n",
       "      <th>2</th>\n",
       "      <td>92123</td>\n",
       "      <td>97691</td>\n",
       "      <td>5.37e+05</td>\n",
       "      <td>5.49</td>\n",
       "    </tr>\n",
       "    <tr>\n",
       "      <th>...</th>\n",
       "      <td>...</td>\n",
       "      <td>...</td>\n",
       "      <td>...</td>\n",
       "      <td>...</td>\n",
       "    </tr>\n",
       "    <tr>\n",
       "      <th>7</th>\n",
       "      <td>92014</td>\n",
       "      <td>178080</td>\n",
       "      <td>1.50e+06</td>\n",
       "      <td>8.44</td>\n",
       "    </tr>\n",
       "    <tr>\n",
       "      <th>8</th>\n",
       "      <td>91950</td>\n",
       "      <td>51300</td>\n",
       "      <td>4.11e+05</td>\n",
       "      <td>8.00</td>\n",
       "    </tr>\n",
       "    <tr>\n",
       "      <th>9</th>\n",
       "      <td>92011</td>\n",
       "      <td>121353</td>\n",
       "      <td>6.57e+05</td>\n",
       "      <td>5.42</td>\n",
       "    </tr>\n",
       "  </tbody>\n",
       "</table>\n",
       "<p>10 rows × 4 columns</p>\n",
       "</div>"
      ],
      "text/plain": [
       "    Zipcode  Income  Home price  Ratio\n",
       "0     92130  166789    8.42e+05   5.05\n",
       "1     92126  105284    6.20e+05   5.89\n",
       "2     92123   97691    5.37e+05   5.49\n",
       "..      ...     ...         ...    ...\n",
       "7     92014  178080    1.50e+06   8.44\n",
       "8     91950   51300    4.11e+05   8.00\n",
       "9     92011  121353    6.57e+05   5.42\n",
       "\n",
       "[10 rows x 4 columns]"
      ]
     },
     "execution_count": 33,
     "metadata": {},
     "output_type": "execute_result"
    }
   ],
   "source": [
    "df_income_2beds"
   ]
  },
  {
   "cell_type": "code",
   "execution_count": 34,
   "metadata": {},
   "outputs": [
    {
     "data": {
      "text/html": [
       "<div>\n",
       "<style scoped>\n",
       "    .dataframe tbody tr th:only-of-type {\n",
       "        vertical-align: middle;\n",
       "    }\n",
       "\n",
       "    .dataframe tbody tr th {\n",
       "        vertical-align: top;\n",
       "    }\n",
       "\n",
       "    .dataframe thead th {\n",
       "        text-align: right;\n",
       "    }\n",
       "</style>\n",
       "<table border=\"1\" class=\"dataframe\">\n",
       "  <thead>\n",
       "    <tr style=\"text-align: right;\">\n",
       "      <th></th>\n",
       "      <th>Zipcode</th>\n",
       "      <th>Income</th>\n",
       "      <th>Home price</th>\n",
       "      <th>Ratio</th>\n",
       "    </tr>\n",
       "  </thead>\n",
       "  <tbody>\n",
       "    <tr>\n",
       "      <th>0</th>\n",
       "      <td>92130</td>\n",
       "      <td>166789</td>\n",
       "      <td>1.26e+06</td>\n",
       "      <td>7.58</td>\n",
       "    </tr>\n",
       "    <tr>\n",
       "      <th>1</th>\n",
       "      <td>92126</td>\n",
       "      <td>105284</td>\n",
       "      <td>8.80e+05</td>\n",
       "      <td>8.35</td>\n",
       "    </tr>\n",
       "    <tr>\n",
       "      <th>2</th>\n",
       "      <td>92123</td>\n",
       "      <td>97691</td>\n",
       "      <td>9.37e+05</td>\n",
       "      <td>9.59</td>\n",
       "    </tr>\n",
       "    <tr>\n",
       "      <th>...</th>\n",
       "      <td>...</td>\n",
       "      <td>...</td>\n",
       "      <td>...</td>\n",
       "      <td>...</td>\n",
       "    </tr>\n",
       "    <tr>\n",
       "      <th>7</th>\n",
       "      <td>92014</td>\n",
       "      <td>178080</td>\n",
       "      <td>2.32e+06</td>\n",
       "      <td>13.04</td>\n",
       "    </tr>\n",
       "    <tr>\n",
       "      <th>8</th>\n",
       "      <td>91950</td>\n",
       "      <td>51300</td>\n",
       "      <td>5.80e+05</td>\n",
       "      <td>11.32</td>\n",
       "    </tr>\n",
       "    <tr>\n",
       "      <th>9</th>\n",
       "      <td>92011</td>\n",
       "      <td>121353</td>\n",
       "      <td>9.69e+05</td>\n",
       "      <td>7.99</td>\n",
       "    </tr>\n",
       "  </tbody>\n",
       "</table>\n",
       "<p>10 rows × 4 columns</p>\n",
       "</div>"
      ],
      "text/plain": [
       "    Zipcode  Income  Home price  Ratio\n",
       "0     92130  166789    1.26e+06   7.58\n",
       "1     92126  105284    8.80e+05   8.35\n",
       "2     92123   97691    9.37e+05   9.59\n",
       "..      ...     ...         ...    ...\n",
       "7     92014  178080    2.32e+06  13.04\n",
       "8     91950   51300    5.80e+05  11.32\n",
       "9     92011  121353    9.69e+05   7.99\n",
       "\n",
       "[10 rows x 4 columns]"
      ]
     },
     "execution_count": 34,
     "metadata": {},
     "output_type": "execute_result"
    }
   ],
   "source": [
    "df_income_3beds"
   ]
  },
  {
   "cell_type": "code",
   "execution_count": 35,
   "metadata": {},
   "outputs": [
    {
     "data": {
      "text/plain": [
       "<AxesSubplot:xlabel='Income', ylabel='Ratio'>"
      ]
     },
     "execution_count": 35,
     "metadata": {},
     "output_type": "execute_result"
    },
    {
     "data": {
      "image/png": "[encoded data removed]",
      "text/plain": [
       "<Figure size 842.4x595.44 with 1 Axes>"
      ]
     },
     "metadata": {},
     "output_type": "display_data"
    }
   ],
   "source": [
    "sns.set(rc={'figure.figsize':(11.7,8.27)})\n",
    "sns.barplot(x=\"Income\",y=\"Ratio\",data=df_income_2beds)"
   ]
  },
  {
   "cell_type": "code",
   "execution_count": 36,
   "metadata": {},
   "outputs": [
    {
     "data": {
      "text/plain": [
       "<AxesSubplot:xlabel='Income', ylabel='Ratio'>"
      ]
     },
     "execution_count": 36,
     "metadata": {},
     "output_type": "execute_result"
    },
    {
     "data": {
      "image/png": "[encoded data removed]",
      "text/plain": [
       "<Figure size 842.4x595.44 with 1 Axes>"
      ]
     },
     "metadata": {},
     "output_type": "display_data"
    }
   ],
   "source": [
    "sns.barplot(x=\"Income\",y=\"Ratio\",data=df_income_3beds)"
   ]
  },
  {
   "cell_type": "code",
   "execution_count": null,
   "metadata": {},
   "outputs": [],
   "source": []
  }
 ],
 "metadata": {
  "kernelspec": {
   "display_name": "Python 3 (ipykernel)",
   "language": "python",
   "name": "python3"
  },
  "language_info": {
   "codemirror_mode": {
    "name": "ipython",
    "version": 3
   },
   "file_extension": ".py",
   "mimetype": "text/x-python",
   "name": "python",
   "nbconvert_exporter": "python",
   "pygments_lexer": "ipython3",
   "version": "3.9.5"
  }
 },
 "nbformat": 4,
 "nbformat_minor": 2
}
